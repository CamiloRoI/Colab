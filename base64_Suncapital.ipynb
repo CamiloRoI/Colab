{
  "cells": [
    {
      "cell_type": "markdown",
      "metadata": {
        "id": "view-in-github",
        "colab_type": "text"
      },
      "source": [
        "<a href=\"https://colab.research.google.com/github/CamiloRoI/Colab/blob/main/base64_Suncapital.ipynb\" target=\"_parent\"><img src=\"https://colab.research.google.com/assets/colab-badge.svg\" alt=\"Open In Colab\"/></a>"
      ]
    },
    {
      "cell_type": "code",
      "execution_count": 31,
      "metadata": {
        "colab": {
          "base_uri": "https://localhost:8080/"
        },
        "id": "3SM-ejKfFvzk",
        "outputId": "71e7bc2c-8c63-422c-9271-6ecdc9d389db"
      },
      "outputs": [
        {
          "output_type": "execute_result",
          "data": {
            "text/plain": [
              "b'eyJTTl9TTCI6ICIiLCAiU05fSU5WIjogIkVTMjI0MDAzOTg3OCIsICJBMSI6ICIuSS4iLCAiQTIiOiAiIiwgIlMxX0lOViI6ICIiLCAiUzJfSU5WIjogIiIsICJBMV9JTlYiOiAiMjAzMiIsICJBMl9JTlYiOiAiIiwgIkEzX0lOViI6ICIifQ=='"
            ]
          },
          "metadata": {},
          "execution_count": 31
        }
      ],
      "source": [
        "import json\n",
        "import base64\n",
        "\n",
        "\n",
        "\n",
        "'''\n",
        " {\"SN_SL\": \"1022A6035369\", \"SN_INV\": \"ES2240039879\", \"A1\": \"\", \"A2\": \"\", \"S1_INV\": \"\", \"S2_INV\": \"\", \"A1_INV\": \"2032\", \"A2_INV\": \"\", \"A3_INV\": \"\"}                        ibague\n",
        "\n",
        "'{\"SN_SL\": \"102150143710\", \"SN_INV\": \"6T21B9012801\", \"A1\": \"\", \"A2\": \"\", \"S1_INV\": \"1007\", \"S2_INV\": \"1012,1013\", \"A1_INV\": \"2032\", \"A2_INV\": \"\", \"A3_INV\": \"\"}'          ctag\n",
        "'{\"SN_SL\": \"102150143710\", \"SN_INV\": \"6T21B9012801\", \"A1\": \"\", \"A2\": \"\", \"S1_INV\": \"\", \"S2_INV\": \"\", \"A1_INV\": \"2032\", \"A2_INV\": \"\", \"A3_INV\": \"\"}'\n",
        "\n",
        "'''\n",
        "\n",
        "\n",
        "custom_json = '{\"SN_SL\": \"\", \"SN_INV\": \"ES2240039878\", \"A1\": \".I.\", \"A2\": \"\", \"S1_INV\": \"\", \"S2_INV\": \"\", \"A1_INV\": \"2032\", \"A2_INV\": \"\", \"A3_INV\": \"\"}'\n",
        "prueba = base64.b64encode(custom_json.encode('utf-8'))\n",
        "prueba\n",
        "\n",
        "\n",
        "\n"
      ]
    }
  ],
  "metadata": {
    "colab": {
      "provenance": [],
      "authorship_tag": "ABX9TyODyjKep6ijPlLSQqTMamgD",
      "include_colab_link": true
    },
    "kernelspec": {
      "display_name": "Python 3",
      "name": "python3"
    },
    "language_info": {
      "name": "python"
    }
  },
  "nbformat": 4,
  "nbformat_minor": 0
}